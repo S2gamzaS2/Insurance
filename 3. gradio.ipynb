{
  "nbformat": 4,
  "nbformat_minor": 0,
  "metadata": {
    "colab": {
      "provenance": []
    },
    "kernelspec": {
      "name": "python3",
      "display_name": "Python 3"
    },
    "language_info": {
      "name": "python"
    }
  },
  "cells": [
    {
      "cell_type": "code",
      "execution_count": null,
      "metadata": {
        "id": "ZEk54D6y1PLw"
      },
      "outputs": [],
      "source": [
        "!pip install gradio"
      ]
    },
    {
      "cell_type": "code",
      "source": [
        "import warnings\n",
        "warnings.filterwarnings('ignore')"
      ],
      "metadata": {
        "id": "cjL7N21UGc2D"
      },
      "execution_count": 2,
      "outputs": []
    },
    {
      "cell_type": "code",
      "source": [
        "import gradio as gr\n",
        "import pickle\n",
        "import numpy as np\n",
        "import pandas as pd\n",
        "\n",
        "# 입력을 받을 각 변수에 대한 입력 폼 생성\n",
        "age_input = gr.inputs.Slider(18, 64, step=1, label=\"Age👶👵\")\n",
        "gender_input = gr.inputs.Radio(choices=[\"Female\", \"Male\"], label=\"Gender👩🧑\")\n",
        "bmi_input = gr.inputs.Number(label=\"BMI⏲\")\n",
        "children_input = gr.inputs.Number(label=\"Children👩🏼‍🤝‍👩🏻👩🏾‍🤝‍👩🏾\")\n",
        "smoker_input = gr.inputs.Checkbox(label=\"Smoker🚬\")\n",
        "region_input = gr.inputs.Radio(choices=[\"Northeast\", \"Northwest\", \"Southeast\", \"Southwest\"], label=\"Region🌏\")\n",
        "\n",
        "with open(\"/content/model_RFR.pkl\", \"rb\") as f:\n",
        "    model = pickle.load(f)\n",
        "\n",
        "def predict_charges(data):\n",
        "    age, sex, bmi, children, smoker, region = data\n",
        "\n",
        "    age = int(age)\n",
        "    if sex == 'Male' : sex = 'male'\n",
        "    elif sex == 'Female' : sex = 'female'\n",
        "    bmi = float(bmi)\n",
        "    children = int(children)\n",
        "    if smoker : smoker = 'yes'\n",
        "    else : smoker = 'no'\n",
        "    region = region.lower()\n",
        "\n",
        "    df = pd.DataFrame(columns=['age', 'sex', 'bmi', 'children', 'smoker', 'region'])\n",
        "    df.loc[0] = [age, sex, bmi, children, smoker, region]\n",
        "\n",
        "    df.loc[1, 'sex'] = 'female'\n",
        "    df.loc[2,'sex'] = 'male'\n",
        "\n",
        "    df.loc[1, 'smoker'] = 'yes'\n",
        "    df.loc[2,'smoker'] = 'no'\n",
        "\n",
        "    df.loc[1, 'region'] = 'southwest'\n",
        "    df.loc[2,'region'] = 'southeast'\n",
        "    df.loc[3, 'region'] = 'northwest'\n",
        "    df.loc[4,'region'] = 'northeast'\n",
        "\n",
        "    df = pd.get_dummies(df, drop_first=True)\n",
        "\n",
        "    pred = model.predict([df.loc[0, :].values])\n",
        "    pred = f'$ {pred[0]:.2f}'\n",
        "\n",
        "    return pred\n",
        "\n",
        "# 입력을 받아 예측하는 함수 정의 (여기에서는 임의로 0으로 반환)\n",
        "def predict(age, sex, bmi, children, smoker, region):\n",
        "\n",
        "    # 1.0, Male, 2.0, 3.0, True, Northwest\n",
        "    data = [age, sex, bmi, children, smoker, region]\n",
        "\n",
        "    prediction = predict_charges(data)\n",
        "    # 여기에 모델을 사용한 예측 코드를 추가하세요\n",
        "    # prediction = 0\n",
        "    return prediction\n",
        "\n",
        "# 웹 애플리케이션 정의\n",
        "app = gr.Interface(\n",
        "    fn=predict,\n",
        "    inputs=[age_input, gender_input, bmi_input, children_input, smoker_input, region_input],\n",
        "    outputs=\"text\",\n",
        "    live=False,\n",
        "    use_label=\"False\",\n",
        "    title=\"Insurance Cost Prediction\",\n",
        "    description=\"Predict insurance costs based on input variables.\"\n",
        ")\n",
        "\n",
        "# # 출력 필드 추가 (기존 출력 필드와 동일한 값을 출력)\n",
        "# output_field = gr.outputs.Text(label=\"Insurance Cost\")\n",
        "# app.add_output(output_field)\n",
        "\n",
        "# 텍스트 상자와 제출 버튼 추가\n",
        "submit_btn = gr.Button(value='submit')\n",
        "\n",
        "# 애플리케이션 실행\n",
        "app.launch(share=True)\n"
      ],
      "metadata": {
        "colab": {
          "base_uri": "https://localhost:8080/",
          "height": 614
        },
        "id": "YwwhfC2S42Hc",
        "outputId": "3292a7ce-0dba-475f-f6cf-8336254515b0"
      },
      "execution_count": 4,
      "outputs": [
        {
          "output_type": "stream",
          "name": "stdout",
          "text": [
            "Colab notebook detected. To show errors in colab notebook, set debug=True in launch()\n",
            "Running on public URL: https://b9a5ba53eac0efc2f0.gradio.live\n",
            "\n",
            "This share link expires in 72 hours. For free permanent hosting and GPU upgrades, run `gradio deploy` from Terminal to deploy to Spaces (https://huggingface.co/spaces)\n"
          ]
        },
        {
          "output_type": "display_data",
          "data": {
            "text/plain": [
              "<IPython.core.display.HTML object>"
            ],
            "text/html": [
              "<div><iframe src=\"https://b9a5ba53eac0efc2f0.gradio.live\" width=\"100%\" height=\"500\" allow=\"autoplay; camera; microphone; clipboard-read; clipboard-write;\" frameborder=\"0\" allowfullscreen></iframe></div>"
            ]
          },
          "metadata": {}
        },
        {
          "output_type": "execute_result",
          "data": {
            "text/plain": []
          },
          "metadata": {},
          "execution_count": 4
        }
      ]
    },
    {
      "cell_type": "code",
      "source": [],
      "metadata": {
        "id": "qk6pea2qN_KG"
      },
      "execution_count": null,
      "outputs": []
    }
  ]
}